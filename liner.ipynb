{
  "nbformat": 4,
  "nbformat_minor": 0,
  "metadata": {
    "colab": {
      "name": "liner.ipynb",
      "provenance": [],
      "collapsed_sections": [],
      "authorship_tag": "ABX9TyPe+c2p22x/wlln8/QipWPA",
      "include_colab_link": true
    },
    "kernelspec": {
      "name": "python3",
      "display_name": "Python 3"
    },
    "language_info": {
      "name": "python"
    },
    "gpuClass": "standard"
  },
  "cells": [
    {
      "cell_type": "markdown",
      "metadata": {
        "id": "view-in-github",
        "colab_type": "text"
      },
      "source": [
        "<a href=\"https://colab.research.google.com/github/liangjieyu123/CropIntensity/blob/main/liner.ipynb\" target=\"_parent\"><img src=\"https://colab.research.google.com/assets/colab-badge.svg\" alt=\"Open In Colab\"/></a>"
      ]
    },
    {
      "cell_type": "code",
      "execution_count": null,
      "metadata": {
        "id": "H9c93H9viKdD"
      },
      "outputs": [],
      "source": [
        "import torch\n",
        "import torch.nn as nn\n",
        "from torch.optim import SGD\n",
        "import matplotlib.pyplot as plt"
      ]
    },
    {
      "cell_type": "code",
      "source": [
        "device = torch.device(\"cuda\" if torch.cuda.is_available() else \"cpu\")"
      ],
      "metadata": {
        "id": "23GZBCZLv8uP"
      },
      "execution_count": null,
      "outputs": []
    },
    {
      "cell_type": "code",
      "source": [
        "x=torch.rand([500,1]).to(device)\n",
        "y_true = 3*x+0.8"
      ],
      "metadata": {
        "id": "J20aQXl1maWU"
      },
      "execution_count": null,
      "outputs": []
    },
    {
      "cell_type": "code",
      "source": [
        "class Myliner (nn.Module):\n",
        "  def __init__(self) -> None:\n",
        "    super(Myliner,self).__init__()\n",
        "    self.liner = nn.Linear(1,1)\n",
        "  def forward(self,x):\n",
        "    out = self.liner(x)\n",
        "    return out"
      ],
      "metadata": {
        "id": "TOLqjjawm-Vg"
      },
      "execution_count": null,
      "outputs": []
    },
    {
      "cell_type": "code",
      "source": [
        "myliner = Myliner().to(device)\n",
        "optimizer = SGD(myliner.parameters(),0.01)\n",
        "loss_fn = nn.MSELoss()"
      ],
      "metadata": {
        "id": "pCzbySdSnt8O"
      },
      "execution_count": null,
      "outputs": []
    },
    {
      "cell_type": "code",
      "source": [
        "for i in range(2000):\n",
        "  y_pre = myliner(x)\n",
        "  # print(y_pre)\n",
        "  # break\n",
        "  loss = loss_fn(y_pre,y_true)\n",
        "  optimizer.zero_grad()\n",
        "  loss.backward()\n",
        "  optimizer.step()\n",
        "  if i%500 == 0 :\n",
        "    params = list(myliner.parameters())\n",
        "    print(loss.item(),params[0].item(),params[1].item())"
      ],
      "metadata": {
        "colab": {
          "base_uri": "https://localhost:8080/"
        },
        "id": "E9_Uiql6riFG",
        "outputId": "e735e307-18fc-4087-cc6b-5741c305bcee"
      },
      "execution_count": null,
      "outputs": [
        {
          "output_type": "stream",
          "name": "stdout",
          "text": [
            "6.3181657791137695 0.8715946674346924 -0.46791723370552063\n",
            "0.02805846929550171 2.4065113067626953 1.1290357112884521\n",
            "0.008313522674143314 2.6769485473632812 0.9791053533554077\n",
            "0.0024632615968585014 2.824153423309326 0.897492527961731\n"
          ]
        }
      ]
    },
    {
      "cell_type": "code",
      "source": [
        "myliner.eval()\n",
        "predict=myliner(x)\n",
        "predict=predict.data.numpy()\n",
        "plt.scatter(x.data.numpy(),y_true.data.numpy(),c=\"r\")\n",
        "plt.plot(x.data.numpy(),predict)\n",
        "plt.show()\n"
      ],
      "metadata": {
        "colab": {
          "base_uri": "https://localhost:8080/",
          "height": 265
        },
        "id": "6mQjvqpPtfuD",
        "outputId": "370edebd-5d6a-491a-f2c0-795da8d22431"
      },
      "execution_count": null,
      "outputs": [
        {
          "output_type": "display_data",
          "data": {
            "text/plain": [
              "<Figure size 432x288 with 1 Axes>"
            ],
            "image/png": "[encoded data removed]"
          },
          "metadata": {
            "needs_background": "light"
          }
        }
      ]
    },
    {
      "cell_type": "code",
      "source": [],
      "metadata": {
        "id": "glSCQoa2vW01"
      },
      "execution_count": null,
      "outputs": []
    }
  ]
}