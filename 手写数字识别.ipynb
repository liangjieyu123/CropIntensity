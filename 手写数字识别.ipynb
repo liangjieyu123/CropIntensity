{
  "cells": [
    {
      "cell_type": "markdown",
      "metadata": {
        "id": "view-in-github",
        "colab_type": "text"
      },
      "source": [
        "<a href=\"https://colab.research.google.com/github/liangjieyu123/CropIntensity/blob/main/%E6%89%8B%E5%86%99%E6%95%B0%E5%AD%97%E8%AF%86%E5%88%AB.ipynb\" target=\"_parent\"><img src=\"https://colab.research.google.com/assets/colab-badge.svg\" alt=\"Open In Colab\"/></a>"
      ]
    },
    {
      "cell_type": "code",
      "execution_count": 1,
      "metadata": {
        "id": "8_OgHDtQh5Mk"
      },
      "outputs": [],
      "source": [
        "import torch\n",
        "from torch import nn\n",
        "import torch.nn.functional as F\n",
        "import numpy as np\n",
        "from torch.utils.data import DataLoader\n",
        "from torchvision.datasets import MNIST\n",
        "from torchvision.transforms import Compose,ToTensor,Normalize"
      ]
    },
    {
      "cell_type": "code",
      "execution_count": 2,
      "metadata": {
        "id": "KkCSFYm7quNW"
      },
      "outputs": [],
      "source": [
        "batch_size=128\n",
        "def get_dataloader(train=True):\n",
        "  transform_fn=Compose([\n",
        "      ToTensor(),\n",
        "      Normalize(mean=(0.1307,),std=(0.3081,))\n",
        "  ])\n",
        "  dataset = MNIST(root=\"./data\",train=train,download=True,transform=transform_fn)\n",
        "  data_loader = DataLoader(dataset,batch_size=batch_size,shuffle=True)\n",
        "  return data_loader"
      ]
    },
    {
      "cell_type": "code",
      "execution_count": 3,
      "metadata": {
        "id": "kSU6rU2OrIEc"
      },
      "outputs": [],
      "source": [
        "class MnistNet(nn.Module):\n",
        "  def __init__(self):\n",
        "    super(MnistNet,self).__init__()\n",
        "    self.fc1=nn.Linear(28*28*1,28)\n",
        "    self.fc2=nn.Linear(28,10)\n",
        "\n",
        "  def forward(self,x):\n",
        "    x=x.view([-1,28*28*1])\n",
        "    x=self.fc1(x)\n",
        "    x=F.relu(x)\n",
        "    x=self.fc2(x)\n",
        "    out=F.log_softmax(x,dim=-1)\n",
        "    return out"
      ]
    },
    {
      "cell_type": "code",
      "execution_count": 4,
      "metadata": {
        "id": "WGQAlQNnIx3A",
        "colab": {
          "base_uri": "https://localhost:8080/"
        },
        "outputId": "9890552c-f570-4b7d-b35a-255efe65a71a"
      },
      "outputs": [
        {
          "output_type": "stream",
          "name": "stdout",
          "text": [
            "Cuda is unavailable\n"
          ]
        }
      ],
      "source": [
        "if torch.cuda.is_available():\n",
        "  print(\"Cuda is available\")\n",
        "else:\n",
        "  print(\"Cuda is unavailable\")\n",
        "device = torch.device(\"cuda\" if torch.cuda.is_available() else \"cpu\")"
      ]
    },
    {
      "cell_type": "code",
      "execution_count": 15,
      "metadata": {
        "id": "GmoLsxfhsTKT"
      },
      "outputs": [],
      "source": [
        "from torch.optim import Adam\n",
        "mnist_net=MnistNet().to(device)\n",
        "optimizer = Adam(mnist_net.parameters(),lr=0.001)\n",
        "def train(epoch):\n",
        "  mode=True\n",
        "  mnist_net.train(mode=mode)\n",
        "\n",
        "  train_dataloader = get_dataloader()\n",
        "  for idx,(input,traget) in enumerate(train_dataloader):\n",
        "    input = input.to(device)\n",
        "    traget = traget.to(device)\n",
        "    output = mnist_net(input)\n",
        "    loss = F.nll_loss(output,traget)\n",
        "    optimizer.zero_grad()\n",
        "    loss.backward()\n",
        "    optimizer.step()\n",
        "    if idx%100 ==0:\n",
        "      print('Train Epoch:{}[{}/{}({:.0f}%)]\\tLoss:{:.6f}'.format(\n",
        "          epoch,idx*len(input),len(train_dataloader.dataset),\n",
        "          100.*idx/len(train_dataloader),loss.item()\n",
        "      ))\n",
        "      # print(epoch,idx,loss.item())"
      ]
    },
    {
      "cell_type": "code",
      "execution_count": 20,
      "metadata": {
        "id": "K72IEbGuGFk6",
        "colab": {
          "base_uri": "https://localhost:8080/"
        },
        "outputId": "f5bda256-c299-4904-f503-35a96fc15a26"
      },
      "outputs": [
        {
          "output_type": "stream",
          "name": "stdout",
          "text": [
            "\n",
            "Test set:Avg. loss:0.1746,Accracy:9501/10000(95.01%)\n",
            "\n"
          ]
        }
      ],
      "source": [
        "# 模型测试\n",
        "def test():\n",
        "  test_loss=0\n",
        "  correct=0\n",
        "  mnist_net.eval()\n",
        "  test_dataloader = get_dataloader(train=False)\n",
        "  with torch.no_grad():\n",
        "    for input,traget in test_dataloader:\n",
        "      output = mnist_net(input)\n",
        "      test_loss += F.nll_loss(output,traget,reduction='sum').item()\n",
        "      pred = output.data.max(1,keepdim=True)[1]   #获取最大值的位置\n",
        "      correct += pred.eq(traget.data.view_as(pred)).sum()\n",
        "  test_loss /= len(test_dataloader.dataset)\n",
        "  print('\\nTest set:Avg. loss:{:.4f},Accracy:{}/{}({:.2f}%)\\n'.format(\n",
        "      test_loss,correct,len(test_dataloader.dataset),\n",
        "      100.*correct/len(test_dataloader.dataset)\n",
        "  )) \n",
        "\n",
        "test()\n"
      ]
    },
    {
      "cell_type": "code",
      "execution_count": 16,
      "metadata": {
        "id": "bI60s8UuGKEr",
        "colab": {
          "base_uri": "https://localhost:8080/"
        },
        "outputId": "549a7eb4-99a8-4f5b-909a-63e642c084fa"
      },
      "outputs": [
        {
          "output_type": "stream",
          "name": "stdout",
          "text": [
            "Train Epoch:0[0/60000(0%)]\tLoss:2.299897\n",
            "Train Epoch:0[12800/60000(21%)]\tLoss:0.341031\n",
            "Train Epoch:0[25600/60000(43%)]\tLoss:0.234435\n",
            "Train Epoch:0[38400/60000(64%)]\tLoss:0.218512\n",
            "Train Epoch:0[51200/60000(85%)]\tLoss:0.437395\n",
            "Train Epoch:1[0/60000(0%)]\tLoss:0.286224\n",
            "Train Epoch:1[12800/60000(21%)]\tLoss:0.376066\n",
            "Train Epoch:1[25600/60000(43%)]\tLoss:0.294707\n",
            "Train Epoch:1[38400/60000(64%)]\tLoss:0.131206\n",
            "Train Epoch:1[51200/60000(85%)]\tLoss:0.222621\n",
            "Train Epoch:2[0/60000(0%)]\tLoss:0.110209\n",
            "Train Epoch:2[12800/60000(21%)]\tLoss:0.274264\n",
            "Train Epoch:2[25600/60000(43%)]\tLoss:0.319275\n",
            "Train Epoch:2[38400/60000(64%)]\tLoss:0.131517\n",
            "Train Epoch:2[51200/60000(85%)]\tLoss:0.147178\n"
          ]
        }
      ],
      "source": [
        "if __name__=='__main__':\n",
        "  test()\n",
        "  for i in range(3):\n",
        "    train(i)\n",
        "    test()"
      ]
    },
    {
      "cell_type": "code",
      "execution_count": null,
      "metadata": {
        "id": "kdyonm17sTCU"
      },
      "outputs": [],
      "source": [
        "# 模型保存\n",
        "torch.save(mnist_net.state_dict(),\"save/mnist_net.pt\")  #保存模型参数\n",
        "torch.save(optimizer.state_dict(),\"save/mnist_optimizer.pt\")"
      ]
    },
    {
      "cell_type": "code",
      "execution_count": null,
      "metadata": {
        "id": "rODDlp0xsS6U"
      },
      "outputs": [],
      "source": [
        "# 模型加载\n",
        "mnist_net.load_state_dict(torch.load(\"data/mnist_net.pt\"))\n",
        "optimizer.load_state_dict(torch.load(\"data/mnist_optimizer.pt\"))"
      ]
    },
    {
      "cell_type": "code",
      "execution_count": null,
      "metadata": {
        "id": "rzIfHsvYGFbL"
      },
      "outputs": [],
      "source": [
        "# 模型测试\n",
        "def test():\n",
        "  loss_list = []\n",
        "  acc_list = []\n",
        "  test_dataloader = get_dataloader(train=False)\n",
        "  for idx,(input,traget) in enumerate(test_dataloader):\n",
        "    with torch.no_grad():\n",
        "      output = mnist_net(input)\n",
        "      cur_loss = F.nll_loss(output,traget)\n",
        "      loss_list.append(cur_loss)\n",
        "      # 计算准确率\n",
        "      pred = output.max(dim=-1)[-1]\n",
        "      cur_acc = pred.eq(traget).float().mean()\n",
        "      acc_list.append(cur_acc)\n",
        "  print(\"平均精度：\",np.mean(acc_list),\"平均损失：\",np.mean(loss_list)) \n",
        "\n",
        "test()\n"
      ]
    },
    {
      "cell_type": "markdown",
      "metadata": {
        "id": "0IHquthFpkUZ"
      },
      "source": [
        "import os\n",
        "from google.colab import drive\n",
        "drive.mount('/content/drive')\n",
        "\n",
        "path = \"/content/drive/MyDrive/model/pytorch-lightning-unet/train_img\"\n",
        "os.chdir(path)\n",
        "os.listdir(path)\n"
      ]
    }
  ],
  "metadata": {
    "colab": {
      "collapsed_sections": [],
      "name": "手写数字识别.ipynb",
      "provenance": [],
      "mount_file_id": "1QKWfcdRO0AWpPN39Mr4RNOUbfMq55crp",
      "authorship_tag": "ABX9TyMwX6qPIAms0M4kMDSEkDMc",
      "include_colab_link": true
    },
    "gpuClass": "standard",
    "kernelspec": {
      "display_name": "Python 3",
      "name": "python3"
    },
    "language_info": {
      "name": "python"
    }
  },
  "nbformat": 4,
  "nbformat_minor": 0
}